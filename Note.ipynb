{
  "nbformat": 4,
  "nbformat_minor": 0,
  "metadata": {
    "colab": {
      "provenance": []
    },
    "kernelspec": {
      "name": "python3",
      "display_name": "Python 3"
    },
    "language_info": {
      "name": "python"
    }
  },
  "cells": [
    {
      "cell_type": "code",
      "execution_count": null,
      "metadata": {
        "id": "QxFcY1lhNLsP"
      },
      "outputs": [],
      "source": [
        "!apt-get update\n",
        "!apt install ffmpeg"
      ]
    },
    {
      "cell_type": "code",
      "source": [
        "!pip install -U demucs"
      ],
      "metadata": {
        "id": "7tVOYM0-NQul"
      },
      "execution_count": null,
      "outputs": []
    },
    {
      "cell_type": "code",
      "source": [
        "!pip install -U pip setuptools wheel\n",
        "!pip install torch torchvision torchaudio --index-url https://download.pytorch.org/whl/cu118\n",
        "!pip install -U so-vits-svc-fork"
      ],
      "metadata": {
        "id": "-bxB8emINWVA"
      },
      "execution_count": null,
      "outputs": []
    }
  ]
}